{
 "cells": [
  {
   "cell_type": "code",
   "execution_count": null,
   "id": "d0e260e4-7955-4791-b48c-956f20aee1b5",
   "metadata": {},
   "outputs": [],
   "source": [
    "dna_human = pd.read_csv(\"human.csv\")\n",
    "human_classcounts = dna_human[\"class\"].value_counts().sort_index()\n",
    "dna_dog = pd.read_csv(\"dog.csv\")\n",
    "dog_classcounts = dna_dog[\"class\"].value_counts().sort_index()\n",
    "dna_chimp = pd.read_csv(\"chimp.csv\")\n",
    "chimp_classcounts = dna_chimp[\"class\"].value_counts().sort_index()\n",
    "human_classcounts.to_csv(\"human_classes.csv\")\n",
    "dog_classcounts.to_csv(\"dog_classes.csv\")\n",
    "chimp_classcounts.to_csv(\"chimp_classes.csv\")"
   ]
  },
  {
   "cell_type": "code",
   "execution_count": 83,
   "id": "35e6230f-41f0-40f9-8829-9eb4567686ff",
   "metadata": {},
   "outputs": [
    {
     "data": {
      "text/html": [
       "\n",
       "        <iframe\n",
       "            width=\"100%\"\n",
       "            height=\"650\"\n",
       "            src=\"http://127.0.0.1:8050/\"\n",
       "            frameborder=\"0\"\n",
       "            allowfullscreen\n",
       "            \n",
       "        ></iframe>\n",
       "        "
      ],
      "text/plain": [
       "<IPython.lib.display.IFrame at 0x15d296cd9d0>"
      ]
     },
     "metadata": {},
     "output_type": "display_data"
    }
   ],
   "source": [
    "from dash import Dash, html, dash_table\n",
    "import pandas as pd\n",
    "import plotly.express as px\n",
    "human_classcounts = pd.read_csv(\"human_classes.csv\")\n",
    "dog_classcounts = pd.read_csv(\"dog_classes.csv\")\n",
    "chimp_classcounts = pd.read_csv(\"chimp_classes.csv\")\n",
    "onemer = pd.read_csv(\"human_class_6_1_mer_counts.csv\")\n",
    "twomer = pd.read_csv(\"human_class_6_2_mer_counts.csv\")\n",
    "threemer = pd.read_csv(\"human_class_6_3_mer_counts.csv\")\n",
    "fourmer = pd.read_csv(\"human_class_6_4_mer_counts.csv\")\n",
    "fivemer = pd.read_csv(\"human_class_6_5_mer_counts.csv\")\n",
    "sixmer = pd.read_csv(\"human_class_6_6_mer_counts.csv\")\n",
    "app = Dash()\n",
    "fig_hum = px.bar(human_classcounts, x=\"class\", y=\"count\")\n",
    "fig_dog = px.bar(dog_classcounts, x=\"class\", y=\"count\")\n",
    "fig_chimp = px.bar(chimp_classcounts, x=\"class\", y=\"count\")\n",
    "fig_onemer = px.bar(onemer, x=\"combination\", y=\"count\")\n",
    "fig_twomer = px.bar(twomer, x=\"combination\", y=\"count\")\n",
    "fig_threemer = px.bar(threemer, x=\"combination\", y=\"count\")\n",
    "fig_fourmer = px.bar(fourmer, x=\"combination\", y=\"count\")\n",
    "fig_fivemer = px.bar(fivemer, x=\"combination\", y=\"count\")\n",
    "fig_sixmer = px.bar(sixmer, x=\"combination\", y=\"count\")\n",
    "app.layout = [\n",
    "    html.Div(children='Частота классов для человека'),\n",
    "    dcc.Graph(\n",
    "        id='classes_hum',\n",
    "        figure=fig_hum\n",
    "    ),\n",
    "    html.Div(children='Частота классов для собаки'),\n",
    "    dcc.Graph(\n",
    "        id='classes_dog',\n",
    "        figure=fig_dog\n",
    "    ),\n",
    "    html.Div(children='Частота классов для шимпанзе'),\n",
    "    dcc.Graph(\n",
    "        id='classes_chimp',\n",
    "        figure=fig_chimp\n",
    "    ),\n",
    "    html.Div(children='Частота различных 1-меров'),\n",
    "    dcc.Graph(\n",
    "        id='onemers',\n",
    "        figure=fig_onemer\n",
    "    ),\n",
    "    html.Div(children='Частота различных 2-меров'),\n",
    "    dcc.Graph(\n",
    "        id='twomers',\n",
    "        figure=fig_twomer\n",
    "    ),\n",
    "    html.Div(children='Частота различных 3-меров'),\n",
    "    dcc.Graph(\n",
    "        id='threemers',\n",
    "        figure=fig_threemer\n",
    "    ),\n",
    "    html.Div(children='Частота различных 4-меров'),\n",
    "    dcc.Graph(\n",
    "        id='fourmers',\n",
    "        figure=fig_fourmer\n",
    "    ),\n",
    "    html.Div(children='Частота различных 5-меров'),\n",
    "    dcc.Graph(\n",
    "        id='fivemers',\n",
    "        figure=fig_fivemer\n",
    "    ),\n",
    "    html.Div(children='Частота различных 6-меров'),\n",
    "    dcc.Graph(\n",
    "        id='sixmers',\n",
    "        figure=fig_sixmer\n",
    "    )\n",
    "]\n",
    "# Run the app\n",
    "if __name__ == '__main__':\n",
    "    app.run(debug=True)"
   ]
  }
 ],
 "metadata": {
  "kernelspec": {
   "display_name": "Python 3 (ipykernel)",
   "language": "python",
   "name": "python3"
  },
  "language_info": {
   "codemirror_mode": {
    "name": "ipython",
    "version": 3
   },
   "file_extension": ".py",
   "mimetype": "text/x-python",
   "name": "python",
   "nbconvert_exporter": "python",
   "pygments_lexer": "ipython3",
   "version": "3.12.4"
  }
 },
 "nbformat": 4,
 "nbformat_minor": 5
}
